{
 "cells": [
  {
   "cell_type": "code",
   "execution_count": 1,
   "metadata": {},
   "outputs": [
    {
     "data": {
      "text/plain": [
       "'/Users/deepak/ownCloud/root/code/ipython-notebooks/bibtex-sql'"
      ]
     },
     "execution_count": 1,
     "metadata": {},
     "output_type": "execute_result"
    }
   ],
   "source": [
    "pwd"
   ]
  },
  {
   "cell_type": "code",
   "execution_count": 2,
   "metadata": {},
   "outputs": [
    {
     "name": "stdout",
     "output_type": "stream",
     "text": [
      "/Users/deepak/ownCloud/root/sites/librarian/library/database\n"
     ]
    }
   ],
   "source": [
    "cd ~/ownCloud/root/sites/librarian/library/database/"
   ]
  },
  {
   "cell_type": "code",
   "execution_count": 3,
   "metadata": {},
   "outputs": [
    {
     "data": {
      "text/plain": [
       "'/Users/deepak/ownCloud/root/sites/librarian/library/database'"
      ]
     },
     "execution_count": 3,
     "metadata": {},
     "output_type": "execute_result"
    }
   ],
   "source": [
    "pwd"
   ]
  },
  {
   "cell_type": "code",
   "execution_count": 2,
   "metadata": {},
   "outputs": [
    {
     "name": "stdout",
     "output_type": "stream",
     "text": [
      "bibtex.bib                history.sq3               library.sq3\r\n",
      "bibtex.clean.bib          ipython-bibtex-sql.ipynb  users.sq3\r\n",
      "discussions.sq3           \u001b[31mlibrary.bib\u001b[m\u001b[m*\r\n",
      "fulltext.sq3              library.clean.bib\r\n"
     ]
    }
   ],
   "source": [
    "ls"
   ]
  },
  {
   "cell_type": "code",
   "execution_count": 3,
   "metadata": {},
   "outputs": [
    {
     "name": "stderr",
     "output_type": "stream",
     "text": [
      "/Users/deepak/anaconda/envs/python3/lib/python3.5/site-packages/IPython/config.py:13: ShimWarning: The `IPython.config` package has been deprecated since IPython 4.0. You should import from traitlets.config instead.\n",
      "  \"You should import from traitlets.config instead.\", ShimWarning)\n",
      "/Users/deepak/anaconda/envs/python3/lib/python3.5/site-packages/IPython/utils/traitlets.py:5: UserWarning: IPython.utils.traitlets has moved to a top-level traitlets package.\n",
      "  warn(\"IPython.utils.traitlets has moved to a top-level traitlets package.\")\n"
     ]
    }
   ],
   "source": [
    "%load_ext sql"
   ]
  },
  {
   "cell_type": "code",
   "execution_count": 4,
   "metadata": {
    "collapsed": true
   },
   "outputs": [],
   "source": [
    "%sql?"
   ]
  },
  {
   "cell_type": "code",
   "execution_count": 5,
   "metadata": {},
   "outputs": [
    {
     "data": {
      "text/plain": [
       "'Connected: None@library.sq3'"
      ]
     },
     "execution_count": 5,
     "metadata": {},
     "output_type": "execute_result"
    }
   ],
   "source": [
    "%sql sqlite:///library.sq3"
   ]
  },
  {
   "cell_type": "code",
   "execution_count": 6,
   "metadata": {},
   "outputs": [
    {
     "data": {
      "text/plain": [
       "'/Users/deepak/ownCloud/root/code/ipython-notebooks/bibtex-sql'"
      ]
     },
     "execution_count": 6,
     "metadata": {},
     "output_type": "execute_result"
    }
   ],
   "source": [
    "pwd"
   ]
  },
  {
   "cell_type": "code",
   "execution_count": 7,
   "metadata": {},
   "outputs": [
    {
     "name": "stdout",
     "output_type": "stream",
     "text": [
      "bibtex.bib                history.sq3               library.sq3\r\n",
      "bibtex.clean.bib          ipython-bibtex-sql.ipynb  users.sq3\r\n",
      "discussions.sq3           \u001b[31mlibrary.bib\u001b[m\u001b[m*\r\n",
      "fulltext.sq3              library.clean.bib\r\n"
     ]
    }
   ],
   "source": [
    "ls"
   ]
  },
  {
   "cell_type": "code",
   "execution_count": 8,
   "metadata": {},
   "outputs": [
    {
     "name": "stdout",
     "output_type": "stream",
     "text": [
      "(sqlite3.OperationalError) near \"show\": syntax error [SQL: 'show tables']\n"
     ]
    }
   ],
   "source": [
    "%%sql\n",
    "show tables"
   ]
  },
  {
   "cell_type": "markdown",
   "metadata": {},
   "source": [
    "## Bibtex with Python\n",
    "\n",
    "Working Directory: `/Users/deepak/ownCloud/root/code/ipython-notebooks/bibtex-sql`"
   ]
  },
  {
   "cell_type": "code",
   "execution_count": 9,
   "metadata": {
    "code_folding": [
     3,
     25,
     46,
     67,
     88,
     109
    ],
    "collapsed": true
   },
   "outputs": [],
   "source": [
    "# Sample bibliography data\n",
    "\n",
    "bibtex = \"\"\"\n",
    "@article{Vaid2010Embedding,\n",
    "\tAbstract = {We argue that the Quadratic Spinor Lagrangian approach allows us to approach the problem of forming a geometrical condensate of spinorial tetrads in a natural manner. This, along with considerations involving the discrete symmetries of lattice triangulations, lead us to discover that the quasiparticles of such a condensate are tetrahedra with braids attached to its faces and that these braid attachments correspond to the preons in Bilson-Thompson's model of elementary particles. These \"spatoms\" can then be put together in a tiling to form more complex structures which encode both geometry and matter in a natural manner. We conclude with some speculations on the relation between this picture and the computational universe hypothesis.},\n",
    "\tArchiveprefix = {arXiv},\n",
    "\tAuthor = {Vaid, Deepak},\n",
    "\tCiteulike-Article-Id = {7265311},\n",
    "\tCiteulike-Linkout-0 = {http://arxiv.org/abs/1002.1462},\n",
    "\tCiteulike-Linkout-1 = {http://arxiv.org/pdf/1002.1462},\n",
    "\tDate-Added = {2010-06-08 04:38:44 +0530},\n",
    "\tDate-Modified = {2010-06-08 04:38:45 +0530},\n",
    "\tDay = {8},\n",
    "\tEprint = {1002.1462},\n",
    "\tKeywords = {bilson-thompson, braids, computational\\_universe, condensate, defects, elementary\\_particles, quadratic-spinor-lagrangian, quantum\\_gravity, standard\\_model, topology},\n",
    "\tMonth = {Feb},\n",
    "\tPosted-At = {2010-06-08 00:08:18},\n",
    "\tPriority = {2},\n",
    "\tTitle = {Embedding the Bilson-Thompson model in an LQG-like framework},\n",
    "\tUrl = {http://arxiv.org/abs/1002.1462},\n",
    "\tYear = {2010},\n",
    "\tBdsk-File-1 = {YnBsaXN0MDDUAQIDBAUGJCVYJHZlcnNpb25YJG9iamVjdHNZJGFyY2hpdmVyVCR0b3ASAAGGoKgHCBMUFRYaIVUkbnVsbNMJCgsMDxJXTlMua2V5c1pOUy5vYmplY3RzViRjbGFzc6INDoACgAOiEBGABIAFgAdccmVsYXRpdmVQYXRoWWFsaWFzRGF0YV8QWC4uL2JpYmRlc2svVmFpZC5EX0VtYmVkZGluZyB0aGUgQmlsc29uLVRob21wc29uIG1vZGVsIGluIGFuIExRRy1saWtlIGZyYW1ld29ya18yMDEwYS5wZGbSFwsYGVdOUy5kYXRhTxEChAAAAAAChAACAAAMTWFjaW50b3NoIEhEAAAAAAAAAAAAAAAAAAAA0InpokgrAAAAFmuGH1ZhaWQuRF9FbWJlZGRpbmcgdGhlIzE2NzRCMS5wZGYAAAAAAAAAAAAAAAAAAAAAAAAAAAAAAAAAAAAAAAAAAAAWdLHG4jniAAAAAAAAAAAAAQACAAAJIAAAAAAAAAAAAAAAAAAAAAdiaWJkZXNrAAAQAAgAANCJnEoAAAARAAgAAMbh7IoAAAABABgAFmuGAM7TSgDOzz4AFNSTAA8AAgACk9MAAgBeTWFjaW50b3NoIEhEOlVzZXJzOgBkZWVwYWs6AG93bkNsb3VkOgByb290OgByZXNlYXJjaDoAYmliZGVzazoAVmFpZC5EX0VtYmVkZGluZyB0aGUjMTY3NEIxLnBkZgAOAJwATQBWAGEAaQBkAC4ARABfAEUAbQBiAGUAZABkAGkAbgBnACAAdABoAGUAIABCAGkAbABzAG8AbgAtAFQAaABvAG0AcABzAG8AbgAgAG0AbwBkAGUAbAAgAGkAbgAgAGEAbgAgAEwAUQBHAC0AbABpAGsAZQAgAGYAcgBhAG0AZQB3AG8AcgBrAF8AMgAwADEAMABhAC4AcABkAGYADwAaAAwATQBhAGMAaQBuAHQAbwBzAGgAIABIAEQAEgB5VXNlcnMvZGVlcGFrL293bkNsb3VkL3Jvb3QvcmVzZWFyY2gvYmliZGVzay9WYWlkLkRfRW1iZWRkaW5nIHRoZSBCaWxzb24tVGhvbXBzb24gbW9kZWwgaW4gYW4gTFFHLWxpa2UgZnJhbWV3b3JrXzIwMTBhLnBkZgAAEwABLwAAFQACAA3//wAAgAbSGxwdHlokY2xhc3NuYW1lWCRjbGFzc2VzXU5TTXV0YWJsZURhdGGjHR8gVk5TRGF0YVhOU09iamVjdNIbHCIjXE5TRGljdGlvbmFyeaIiIF8QD05TS2V5ZWRBcmNoaXZlctEmJ1Ryb290gAEACAARABoAIwAtADIANwBAAEYATQBVAGAAZwBqAGwAbgBxAHMAdQB3AIQAjgDpAO4A9gN+A4ADhQOQA5kDpwOrA7IDuwPAA80D0APiA+UD6gAAAAAAAAIBAAAAAAAAACgAAAAAAAAAAAAAAAAAAAPs},\n",
    "\tBdsk-File-2 = {YnBsaXN0MDDUAQIDBAUGJCVYJHZlcnNpb25YJG9iamVjdHNZJGFyY2hpdmVyVCR0b3ASAAGGoKgHCBMUFRYaIVUkbnVsbNMJCgsMDxJXTlMua2V5c1pOUy5vYmplY3RzViRjbGFzc6INDoACgAOiEBGABIAFgAdccmVsYXRpdmVQYXRoWWFsaWFzRGF0YV8QWC4uL2JpYmRlc2svVmFpZC5EX0VtYmVkZGluZyB0aGUgQmlsc29uLVRob21wc29uIG1vZGVsIGluIGFuIExRRy1saWtlIGZyYW1ld29ya18yMDEwYi5wZGbSFwsYGVdOUy5kYXRhTxEChAAAAAAChAACAAAMTWFjaW50b3NoIEhEAAAAAAAAAAAAAAAAAAAA0InpokgrAAAAFmuGH1ZhaWQuRF9FbWJlZGRpbmcgdGhlIzE2NzRCMi5wZGYAAAAAAAAAAAAAAAAAAAAAAAAAAAAAAAAAAAAAAAAAAAAWdLLHwV5KUERGIAAAAAAAAQACAAAJIAAAAAAAAAAAAAAAAAAAAAdiaWJkZXNrAAAQAAgAANCJnEoAAAARAAgAAMfBEPIAAAABABgAFmuGAM7TSgDOzz4AFNSTAA8AAgACk9MAAgBeTWFjaW50b3NoIEhEOlVzZXJzOgBkZWVwYWs6AG93bkNsb3VkOgByb290OgByZXNlYXJjaDoAYmliZGVzazoAVmFpZC5EX0VtYmVkZGluZyB0aGUjMTY3NEIyLnBkZgAOAJwATQBWAGEAaQBkAC4ARABfAEUAbQBiAGUAZABkAGkAbgBnACAAdABoAGUAIABCAGkAbABzAG8AbgAtAFQAaABvAG0AcABzAG8AbgAgAG0AbwBkAGUAbAAgAGkAbgAgAGEAbgAgAEwAUQBHAC0AbABpAGsAZQAgAGYAcgBhAG0AZQB3AG8AcgBrAF8AMgAwADEAMABiAC4AcABkAGYADwAaAAwATQBhAGMAaQBuAHQAbwBzAGgAIABIAEQAEgB5VXNlcnMvZGVlcGFrL293bkNsb3VkL3Jvb3QvcmVzZWFyY2gvYmliZGVzay9WYWlkLkRfRW1iZWRkaW5nIHRoZSBCaWxzb24tVGhvbXBzb24gbW9kZWwgaW4gYW4gTFFHLWxpa2UgZnJhbWV3b3JrXzIwMTBiLnBkZgAAEwABLwAAFQACAA3//wAAgAbSGxwdHlokY2xhc3NuYW1lWCRjbGFzc2VzXU5TTXV0YWJsZURhdGGjHR8gVk5TRGF0YVhOU09iamVjdNIbHCIjXE5TRGljdGlvbmFyeaIiIF8QD05TS2V5ZWRBcmNoaXZlctEmJ1Ryb290gAEACAARABoAIwAtADIANwBAAEYATQBVAGAAZwBqAGwAbgBxAHMAdQB3AIQAjgDpAO4A9gN+A4ADhQOQA5kDpwOrA7IDuwPAA80D0APiA+UD6gAAAAAAAAIBAAAAAAAAACgAAAAAAAAAAAAAAAAAAAPs},\n",
    "\tBdsk-Url-1 = {http://arxiv.org/abs/1002.1462}}\n",
    "\n",
    "@misc{Vaid2012Quantum,\n",
    "\tAbstract = {In LQG, black hole horizons are described by 2+1 dimensional boundaries of a bulk 3+1 dimensional spacetime. The horizon is endowed with area by lines of gravitational flux which pierce the surface. As is well known, counting of the possible states associated with a given set of punctures allows us to recover the famous Bekenstein-Hawking area law according to which the entropy of a black hole is proportional to the area of the associated horizon \\$ S\\_{BH} \\propto A\\_{Hor} \\$. It is also known that the dynamics of the horizon degrees of freedom is described by the Chern-Simons action of a \\$\\mathfrak{su(2)}\\$ (or \\$\\mathfrak{u(1)}\\$ after a certain gauge fixing) valued gauge field \\$A\\_{\\mu}^i\\$. Recent numerical work which performs the state-counting for punctures, from first-principles, reveals a step-like structure in the entropy-area relation. We argue that both the presence of the Chern-Simons action and the step-like structure in the entropy-area curve are indicative of the fact that the effective theory which describes the dynamics of punctures on the horizon is that of the Quantum Hall Effect.},\n",
    "\tArchiveprefix = {arXiv},\n",
    "\tAuthor = {Vaid, Deepak},\n",
    "\tCiteulike-Article-Id = {11076017},\n",
    "\tCiteulike-Linkout-0 = {http://arxiv.org/abs/1208.3335},\n",
    "\tCiteulike-Linkout-1 = {http://arxiv.org/pdf/1208.3335},\n",
    "\tDate-Added = {2012-08-17 09:26:36 +0530},\n",
    "\tDate-Modified = {2012-08-17 09:26:36 +0530},\n",
    "\tDay = {16},\n",
    "\tEprint = {1208.3335},\n",
    "\tKeywords = {area-operator, bekenstein\\_hawking\\_entropy, chern-simons, entropy, lqg, quantum\\_gravity, quantum\\_hall\\_effect, vaid\\_d},\n",
    "\tMonth = aug,\n",
    "\tPosted-At = {2012-08-17 04:55:29},\n",
    "\tPriority = {2},\n",
    "\tTitle = {Quantum Hall Effect and Black Hole Entropy in Loop Quantum Gravity},\n",
    "\tUrl = {http://arxiv.org/abs/1208.3335},\n",
    "\tYear = {2012},\n",
    "\tBdsk-File-1 = {YnBsaXN0MDDUAQIDBAUGJCVYJHZlcnNpb25YJG9iamVjdHNZJGFyY2hpdmVyVCR0b3ASAAGGoKgHCBMUFRYaIVUkbnVsbNMJCgsMDxJXTlMua2V5c1pOUy5vYmplY3RzViRjbGFzc6INDoACgAOiEBGABIAFgAdccmVsYXRpdmVQYXRoWWFsaWFzRGF0YV8QXi4uL2JpYmRlc2svVmFpZC5EX1F1YW50dW0gSGFsbCBFZmZlY3QgYW5kIEJsYWNrIEhvbGUgRW50cm9weSBpbiBMb29wIFF1YW50dW0gR3Jhdml0eV8yMDEyYS5wZGbSFwsYGVdOUy5kYXRhTxEClgAAAAAClgACAAAMTWFjaW50b3NoIEhEAAAAAAAAAAAAAAAAAAAA0InpokgrAAAAFmuGH1ZhaWQuRF9RdWFudHVtIEhhbGwjNjkyRDZEMi5wZGYAAAAAAAAAAAAAAAAAAAAAAAAAAAAAAAAAAAAAAAAAAAaS1tLMU740UERGIAAAAAAAAQACAAAJIAAAAAAAAAAAAAAAAAAAAAdiaWJkZXNrAAAQAAgAANCJnEoAAAARAAgAAMxTcNwAAAABABgAFmuGAM7TSgDOzz4AFNSTAA8AAgACk9MAAgBeTWFjaW50b3NoIEhEOlVzZXJzOgBkZWVwYWs6AG93bkNsb3VkOgByb290OgByZXNlYXJjaDoAYmliZGVzazoAVmFpZC5EX1F1YW50dW0gSGFsbCM2OTJENkQyLnBkZgAOAKgAUwBWAGEAaQBkAC4ARABfAFEAdQBhAG4AdAB1AG0AIABIAGEAbABsACAARQBmAGYAZQBjAHQAIABhAG4AZAAgAEIAbABhAGMAawAgAEgAbwBsAGUAIABFAG4AdAByAG8AcAB5ACAAaQBuACAATABvAG8AcAAgAFEAdQBhAG4AdAB1AG0AIABHAHIAYQB2AGkAdAB5AF8AMgAwADEAMgBhAC4AcABkAGYADwAaAAwATQBhAGMAaQBuAHQAbwBzAGgAIABIAEQAEgB/VXNlcnMvZGVlcGFrL293bkNsb3VkL3Jvb3QvcmVzZWFyY2gvYmliZGVzay9WYWlkLkRfUXVhbnR1bSBIYWxsIEVmZmVjdCBhbmQgQmxhY2sgSG9sZSBFbnRyb3B5IGluIExvb3AgUXVhbnR1bSBHcmF2aXR5XzIwMTJhLnBkZgAAEwABLwAAFQACAA3//wAAgAbSGxwdHlokY2xhc3NuYW1lWCRjbGFzc2VzXU5TTXV0YWJsZURhdGGjHR8gVk5TRGF0YVhOU09iamVjdNIbHCIjXE5TRGljdGlvbmFyeaIiIF8QD05TS2V5ZWRBcmNoaXZlctEmJ1Ryb290gAEACAARABoAIwAtADIANwBAAEYATQBVAGAAZwBqAGwAbgBxAHMAdQB3AIQAjgDvAPQA/AOWA5gDnQOoA7EDvwPDA8oD0wPYA+UD6AP6A/0EAgAAAAAAAAIBAAAAAAAAACgAAAAAAAAAAAAAAAAAAAQE},\n",
    "\tBdsk-Url-1 = {http://arxiv.org/abs/1208.3335}}\n",
    "\n",
    "@misc{Vaid2013Elementary,\n",
    "\tAbstract = {It is shown that there exists a mapping between the fermions of the Standard Model ({SM}) represented as braids in the {Bilson-Thompson} model, and a set of gates which can perform Universal Quantum Computation ({UQC}). This leads us to conjecture that the \"Computational Universe Hypothesis\" ({CUH}) can be given a concrete implementation in a new physical framework where elementary particles and the gauge bosons (which intermediate interactions between fermions) are interpreted as the components of a quantum computational network, with the particles serving as quantum computational gates and the gauge fields as the information carrying entities.},\n",
    "\tArchiveprefix = {arXiv},\n",
    "\tAuthor = {Vaid, Deepak},\n",
    "\tCiteulike-Article-Id = {12456844},\n",
    "\tCiteulike-Linkout-0 = {http://arxiv.org/abs/1307.0096},\n",
    "\tCiteulike-Linkout-1 = {http://arxiv.org/pdf/1307.0096},\n",
    "\tDate-Added = {2013-07-02 10:13:59 +0530},\n",
    "\tDate-Modified = {2013-07-02 10:14:01 +0530},\n",
    "\tDay = {29},\n",
    "\tEprint = {1307.0096},\n",
    "\tKeywords = {bilson-thompson, braids, computational\\_universe, fqxi, large\\_gauge\\_transformation, lqg, preons, quantum\\_computation, quantum\\_gates, quantum\\_gravity, universal, vaid\\_d},\n",
    "\tMonth = jun,\n",
    "\tPosted-At = {2013-07-02 05:42:42},\n",
    "\tPriority = {2},\n",
    "\tTitle = {Elementary Particles as Gates for Universal Quantum Computation},\n",
    "\tUrl = {http://arxiv.org/abs/1307.0096},\n",
    "\tYear = {2013},\n",
    "\tBdsk-File-1 = {YnBsaXN0MDDUAQIDBAUGJCVYJHZlcnNpb25YJG9iamVjdHNZJGFyY2hpdmVyVCR0b3ASAAGGoKgHCBMUFRYaIVUkbnVsbNMJCgsMDxJXTlMua2V5c1pOUy5vYmplY3RzViRjbGFzc6INDoACgAOiEBGABIAFgAdccmVsYXRpdmVQYXRoWWFsaWFzRGF0YV8QWy4uL2JpYmRlc2svVmFpZC5EX0VsZW1lbnRhcnkgUGFydGljbGVzIGFzIEdhdGVzIGZvciBVbml2ZXJzYWwgUXVhbnR1bSBDb21wdXRhdGlvbl8yMDEzYS5wZGbSFwsYGVdOUy5kYXRhTxECjAAAAAACjAACAAAMTWFjaW50b3NoIEhEAAAAAAAAAAAAAAAAAAAA0InpokgrAAAAFmuGH1ZhaWQuRF9FbGVtZW50YXJ5IFBhIzE2NzRCMC5wZGYAAAAAAAAAAAAAAAAAAAAAAAAAAAAAAAAAAAAAAAAAAAAWdLDN+FhyAAAAAAAAAAAAAQACAAAJIAAAAAAAAAAAAAAAAAAAAAdiaWJkZXNrAAAQAAgAANCJnEoAAAARAAgAAM34CxoAAAABABgAFmuGAM7TSgDOzz4AFNSTAA8AAgACk9MAAgBeTWFjaW50b3NoIEhEOlVzZXJzOgBkZWVwYWs6AG93bkNsb3VkOgByb290OgByZXNlYXJjaDoAYmliZGVzazoAVmFpZC5EX0VsZW1lbnRhcnkgUGEjMTY3NEIwLnBkZgAOAKIAUABWAGEAaQBkAC4ARABfAEUAbABlAG0AZQBuAHQAYQByAHkAIABQAGEAcgB0AGkAYwBsAGUAcwAgAGEAcwAgAEcAYQB0AGUAcwAgAGYAbwByACAAVQBuAGkAdgBlAHIAcwBhAGwAIABRAHUAYQBuAHQAdQBtACAAQwBvAG0AcAB1AHQAYQB0AGkAbwBuAF8AMgAwADEAMwBhAC4AcABkAGYADwAaAAwATQBhAGMAaQBuAHQAbwBzAGgAIABIAEQAEgB8VXNlcnMvZGVlcGFrL293bkNsb3VkL3Jvb3QvcmVzZWFyY2gvYmliZGVzay9WYWlkLkRfRWxlbWVudGFyeSBQYXJ0aWNsZXMgYXMgR2F0ZXMgZm9yIFVuaXZlcnNhbCBRdWFudHVtIENvbXB1dGF0aW9uXzIwMTNhLnBkZgATAAEvAAAVAAIADf//AACABtIbHB0eWiRjbGFzc25hbWVYJGNsYXNzZXNdTlNNdXRhYmxlRGF0YaMdHyBWTlNEYXRhWE5TT2JqZWN00hscIiNcTlNEaWN0aW9uYXJ5oiIgXxAPTlNLZXllZEFyY2hpdmVy0SYnVHJvb3SAAQAIABEAGgAjAC0AMgA3AEAARgBNAFUAYABnAGoAbABuAHEAcwB1AHcAhACOAOwA8QD5A4kDiwOQA5sDpAOyA7YDvQPGA8sD2APbA+0D8AP1AAAAAAAAAgEAAAAAAAAAKAAAAAAAAAAAAAAAAAAAA/c=},\n",
    "\tBdsk-Url-1 = {http://arxiv.org/abs/1307.0096}}\n",
    "\n",
    "@misc{Vaid2013Non-abelian,\n",
    "\tAbstract = {\\emph{Effective} gauge fields arise in the description of the dynamics of defects in lattices of graphene in condensed matter. The interactions between neighboring nodes of a lattice/spin-network are described by the Hubbard model whose effective field theory at long distances is given by the Dirac equation for an \\emph{emergent} gauge field. The spin-networks in question can be used to describe the geometry experienced by a non-inertial observer in flat spacetime moving at a constant acceleration in a given direction. We expect such spin-networks to describe the structure of quantum horizons of black holes in loop quantum gravity. We argue that the abelian and non-abelian gauge fields of the Standard Model can be identified with the emergent degrees of freedom required to describe the dynamics of defects in symmetry reduced spin-networks.},\n",
    "\tArchiveprefix = {arXiv},\n",
    "\tAuthor = {Vaid, Deepak},\n",
    "\tCiteulike-Article-Id = {12605949},\n",
    "\tCiteulike-Linkout-0 = {http://arxiv.org/abs/1309.0652},\n",
    "\tCiteulike-Linkout-1 = {http://arxiv.org/pdf/1309.0652},\n",
    "\tDate-Added = {2013-09-04 12:11:57 +0530},\n",
    "\tDate-Modified = {2013-09-04 12:12:01 +0530},\n",
    "\tDay = {3},\n",
    "\tEprint = {1309.0652},\n",
    "\tKeywords = {condensed\\_matter, emergence, gauge\\_fields, graphene, horizons, lqg, manybody, quantum\\_gravity, symmetry\\_reduction, vaid\\_d},\n",
    "\tMonth = sep,\n",
    "\tPosted-At = {2013-09-04 07:38:52},\n",
    "\tPriority = {2},\n",
    "\tTitle = {Non-abelian Gauge Fields from Defects in {Spin-Networks}},\n",
    "\tUrl = {http://arxiv.org/abs/1309.0652},\n",
    "\tYear = {2013},\n",
    "\tBdsk-File-1 = {YnBsaXN0MDDUAQIDBAUGJCVYJHZlcnNpb25YJG9iamVjdHNZJGFyY2hpdmVyVCR0b3ASAAGGoKgHCBMUFRYaIVUkbnVsbNMJCgsMDxJXTlMua2V5c1pOUy5vYmplY3RzViRjbGFzc6INDoACgAOiEBGABIAFgAdccmVsYXRpdmVQYXRoWWFsaWFzRGF0YV8QUi4uL2JpYmRlc2svVmFpZC5EX05vbi1hYmVsaWFuIEdhdWdlIEZpZWxkcyBmcm9tIERlZmVjdHMgaW4gU3Bpbi1OZXR3b3Jrc18yMDEzYS5wZGbSFwsYGVdOUy5kYXRhTxECcgAAAAACcgACAAAMTWFjaW50b3NoIEhEAAAAAAAAAAAAAAAAAAAA0InpokgrAAAAFmuGH1ZhaWQuRF9Ob24tYWJlbGlhbiBHIzE2NzRCMy5wZGYAAAAAAAAAAAAAAAAAAAAAAAAAAAAAAAAAAAAAAAAAAAAWdLPOTMuIUERGIAAAAAAAAQACAAAJIAAAAAAAAAAAAAAAAAAAAAdiaWJkZXNrAAAQAAgAANCJnEoAAAARAAgAAM5MfjAAAAABABgAFmuGAM7TSgDOzz4AFNSTAA8AAgACk9MAAgBeTWFjaW50b3NoIEhEOlVzZXJzOgBkZWVwYWs6AG93bkNsb3VkOgByb290OgByZXNlYXJjaDoAYmliZGVzazoAVmFpZC5EX05vbi1hYmVsaWFuIEcjMTY3NEIzLnBkZgAOAJAARwBWAGEAaQBkAC4ARABfAE4AbwBuAC0AYQBiAGUAbABpAGEAbgAgAEcAYQB1AGcAZQAgAEYAaQBlAGwAZABzACAAZgByAG8AbQAgAEQAZQBmAGUAYwB0AHMAIABpAG4AIABTAHAAaQBuAC0ATgBlAHQAdwBvAHIAawBzAF8AMgAwADEAMwBhAC4AcABkAGYADwAaAAwATQBhAGMAaQBuAHQAbwBzAGgAIABIAEQAEgBzVXNlcnMvZGVlcGFrL293bkNsb3VkL3Jvb3QvcmVzZWFyY2gvYmliZGVzay9WYWlkLkRfTm9uLWFiZWxpYW4gR2F1Z2UgRmllbGRzIGZyb20gRGVmZWN0cyBpbiBTcGluLU5ldHdvcmtzXzIwMTNhLnBkZgAAEwABLwAAFQACAA3//wAAgAbSGxwdHlokY2xhc3NuYW1lWCRjbGFzc2VzXU5TTXV0YWJsZURhdGGjHR8gVk5TRGF0YVhOU09iamVjdNIbHCIjXE5TRGljdGlvbmFyeaIiIF8QD05TS2V5ZWRBcmNoaXZlctEmJ1Ryb290gAEACAARABoAIwAtADIANwBAAEYATQBVAGAAZwBqAGwAbgBxAHMAdQB3AIQAjgDjAOgA8ANmA2gDbQN4A4EDjwOTA5oDowOoA7UDuAPKA80D0gAAAAAAAAIBAAAAAAAAACgAAAAAAAAAAAAAAAAAAAPU},\n",
    "\tBdsk-Url-1 = {http://arxiv.org/abs/1309.0652}}\n",
    "\n",
    "@misc{Vaid2013Superconducting,\n",
    "\tAbstract = {A correspondence between the \\$SO(5)\\$ theory of High-T\\${}\\_C\\$ superconductivity and antiferromagnetism, put forward by Zhang and collaborators, and a theory of gravity arising from symmetry breaking of a \\$SO(5)\\$ gauge field is presented. A physical correspondence between the order parameters of the unified SC/AF theory and the generators of the gravitational gauge connection is conjectured. A preliminary identification of regions of geometry, in solutions of Einstein's equations describing charged-rotating black holes embedded in deSitter spacetime, with SC and AF phases is carried out.},\n",
    "\tArchiveprefix = {arXiv},\n",
    "\tAuthor = {Vaid, Deepak},\n",
    "\tCiteulike-Article-Id = {12883610},\n",
    "\tCiteulike-Linkout-0 = {http://arxiv.org/abs/1312.7119},\n",
    "\tCiteulike-Linkout-1 = {http://arxiv.org/pdf/1312.7119},\n",
    "\tDate-Added = {2013-12-30 05:59:09 +0000},\n",
    "\tDate-Modified = {2013-12-30 05:59:40 +0000},\n",
    "\tDay = {26},\n",
    "\tEprint = {1312.7119},\n",
    "\tKeywords = {antiferromagnetism, bf-theory, high\\_temperature, manybody, quantum\\_gravity, sc\\_zhang, so5, superconductivity, symmetry\\_breaking, vaid\\_d},\n",
    "\tMonth = dec,\n",
    "\tPosted-At = {2013-12-30 05:58:11},\n",
    "\tPriority = {2},\n",
    "\tTitle = {Superconducting and {Anti-Ferromagnetic} Phases of Spacetime},\n",
    "\tUrl = {http://arxiv.org/abs/1312.7119},\n",
    "\tYear = {2013},\n",
    "\tBdsk-File-1 = {YnBsaXN0MDDUAQIDBAUGJCVYJHZlcnNpb25YJG9iamVjdHNZJGFyY2hpdmVyVCR0b3ASAAGGoKgHCBMUFRYaIVUkbnVsbNMJCgsMDxJXTlMua2V5c1pOUy5vYmplY3RzViRjbGFzc6INDoACgAOiEBGABIAFgAdccmVsYXRpdmVQYXRoWWFsaWFzRGF0YV8QVi4uL2JpYmRlc2svVmFpZC5EX1N1cGVyY29uZHVjdGluZyBhbmQgQW50aS1GZXJyb21hZ25ldGljIFBoYXNlcyBvZiBTcGFjZXRpbWVfMjAxM2EucGRm0hcLGBlXTlMuZGF0YU8RAn4AAAAAAn4AAgAADE1hY2ludG9zaCBIRAAAAAAAAAAAAAAAAAAAANCJ6aJIKwAAABZrhh9WYWlkLkRfU3VwZXJjb25kdWN0aSMxNjc0QjcucGRmAAAAAAAAAAAAAAAAAAAAAAAAAAAAAAAAAAAAAAAAAAAAFnS3zucJvVBERiAAAAAAAAEAAgAACSAAAAAAAAAAAAAAAAAAAAAHYmliZGVzawAAEAAIAADQiZxKAAAAEQAIAADO5rxlAAAAAQAYABZrhgDO00oAzs8+ABTUkwAPAAIAApPTAAIAXk1hY2ludG9zaCBIRDpVc2VyczoAZGVlcGFrOgBvd25DbG91ZDoAcm9vdDoAcmVzZWFyY2g6AGJpYmRlc2s6AFZhaWQuRF9TdXBlcmNvbmR1Y3RpIzE2NzRCNy5wZGYADgCYAEsAVgBhAGkAZAAuAEQAXwBTAHUAcABlAHIAYwBvAG4AZAB1AGMAdABpAG4AZwAgAGEAbgBkACAAQQBuAHQAaQAtAEYAZQByAHIAbwBtAGEAZwBuAGUAdABpAGMAIABQAGgAYQBzAGUAcwAgAG8AZgAgAFMAcABhAGMAZQB0AGkAbQBlAF8AMgAwADEAMwBhAC4AcABkAGYADwAaAAwATQBhAGMAaQBuAHQAbwBzAGgAIABIAEQAEgB3VXNlcnMvZGVlcGFrL293bkNsb3VkL3Jvb3QvcmVzZWFyY2gvYmliZGVzay9WYWlkLkRfU3VwZXJjb25kdWN0aW5nIGFuZCBBbnRpLUZlcnJvbWFnbmV0aWMgUGhhc2VzIG9mIFNwYWNldGltZV8yMDEzYS5wZGYAABMAAS8AABUAAgAN//8AAIAG0hscHR5aJGNsYXNzbmFtZVgkY2xhc3Nlc11OU011dGFibGVEYXRhox0fIFZOU0RhdGFYTlNPYmplY3TSGxwiI1xOU0RpY3Rpb25hcnmiIiBfEA9OU0tleWVkQXJjaGl2ZXLRJidUcm9vdIABAAgAEQAaACMALQAyADcAQABGAE0AVQBgAGcAagBsAG4AcQBzAHUAdwCEAI4A5wDsAPQDdgN4A30DiAORA58DowOqA7MDuAPFA8gD2gPdA+IAAAAAAAACAQAAAAAAAAAoAAAAAAAAAAAAAAAAAAAD5A==},\n",
    "\tBdsk-Url-1 = {http://arxiv.org/abs/1312.7119}}\n",
    "\n",
    "@misc{Vaid2014LQG-for-the-Bewildered,\n",
    "\tAbstract = {We present a pedagogical introduction to the notions underlying the connection formulation of General Relativity - Loop Quantum Gravity (LQG) - with an emphasis on the physical aspects of the framework. We explain, in a concise and clear manner, the steps leading from the Einstein-Hilbert action for gravity to the construction of the quantum states of geometry, known as \\emph{spin-networks}, which provide the basis for the kinematical Hilbert space of quantum general relativity. Along the way we introduce the various associated concepts of \\emph{tetrads}, \\emph{spin-connection} and \\emph{holonomies} which are a pre-requisite for understanding the LQG formalism. Having provided a minimal introduction to the LQG framework, we discuss its applications to the problems of black hole entropy and of quantum cosmology. A list of the most common criticisms of LQG is presented, which are then tackled one by one in order to convince the reader of the physical viability of the theory. An extensive set of appendices provide accessible introductions to several key notions such as the \\emph{Peter-Weyl theorem}, \\emph{duality} of differential forms and \\emph{Regge calculus}, among others. The presentation is aimed at graduate students and researchers who have some familiarity with the tools of quantum mechanics and field theory and/or General Relativity, but are intimidated by the seeming technical prowess required to browse through the existing LQG literature. Our hope is to make the formalism appear a little less bewildering to the un-initiated and to help lower the barrier for entry into the field.},\n",
    "\tArchiveprefix = {arXiv},\n",
    "\tAuthor = {Vaid, Deepak and Bilson-Thompson, Sundance},\n",
    "\tCiteulike-Article-Id = {13051558},\n",
    "\tCiteulike-Linkout-0 = {http://arxiv.org/abs/1402.3586},\n",
    "\tCiteulike-Linkout-1 = {http://arxiv.org/pdf/1402.3586},\n",
    "\tDate-Added = {2014-02-17 08:22:23 +0000},\n",
    "\tDate-Modified = {2015-11-14 09:46:38 +0000},\n",
    "\tDay = {14},\n",
    "\tEprint = {1402.3586},\n",
    "\tKeywords = {adm\\_formulation, area-operator, arxiv, ashtekar\\_variables, bilson-thompson, connection\\_dynamics, differential\\_forms, introductory, lqg, lqgbewil, peter\\_weyl\\_theorem, quantum\\_gravity, regge\\_calculus, vaid\\_d},\n",
    "\tMonth = feb,\n",
    "\tPosted-At = {2014-02-17 08:20:44},\n",
    "\tPriority = {2},\n",
    "\tTitle = {{LQG} for the Bewildered},\n",
    "\tUrl = {http://arxiv.org/abs/1402.3586},\n",
    "\tYear = {2014},\n",
    "\tBdsk-File-1 = {YnBsaXN0MDDUAQIDBAUGJCVYJHZlcnNpb25YJG9iamVjdHNZJGFyY2hpdmVyVCR0b3ASAAGGoKgHCBMUFRYaIVUkbnVsbNMJCgsMDxJXTlMua2V5c1pOUy5vYmplY3RzViRjbGFzc6INDoACgAOiEBGABIAFgAdccmVsYXRpdmVQYXRoWWFsaWFzRGF0YV8QRC4uL2JpYmRlc2svQmlsc29uLVRob21wc29uLlM7VmFpZC5EX0xRRyBmb3IgdGhlIEJld2lsZGVyZWRfMjAxNGEucGRm0hcLGBlXTlMuZGF0YU8RAkgAAAAAAkgAAgAADE1hY2ludG9zaCBIRAAAAAAAAAAAAAAAAAAAANCJ6aJIKwAAABZrhh9CaWxzb24tVGhvbXBzb24uUztWYSMxNjZEMTIucGRmAAAAAAAAAAAAAAAAAAAAAAAAAAAAAAAAAAAAAAAAAAAAFm0SzyfC71BERiAAAAAAAAEAAgAACSAAAAAAAAAAAAAAAAAAAAAHYmliZGVzawAAEAAIAADQiZxKAAAAEQAIAADPJ3WXAAAAAQAYABZrhgDO00oAzs8+ABTUkwAPAAIAApPTAAIAXk1hY2ludG9zaCBIRDpVc2VyczoAZGVlcGFrOgBvd25DbG91ZDoAcm9vdDoAcmVzZWFyY2g6AGJpYmRlc2s6AEJpbHNvbi1UaG9tcHNvbi5TO1ZhIzE2NkQxMi5wZGYADgB0ADkAQgBpAGwAcwBvAG4ALQBUAGgAbwBtAHAAcwBvAG4ALgBTADsAVgBhAGkAZAAuAEQAXwBMAFEARwAgAGYAbwByACAAdABoAGUAIABCAGUAdwBpAGwAZABlAHIAZQBkAF8AMgAwADEANABhAC4AcABkAGYADwAaAAwATQBhAGMAaQBuAHQAbwBzAGgAIABIAEQAEgBlVXNlcnMvZGVlcGFrL293bkNsb3VkL3Jvb3QvcmVzZWFyY2gvYmliZGVzay9CaWxzb24tVGhvbXBzb24uUztWYWlkLkRfTFFHIGZvciB0aGUgQmV3aWxkZXJlZF8yMDE0YS5wZGYAABMAAS8AABUAAgAN//8AAIAG0hscHR5aJGNsYXNzbmFtZVgkY2xhc3Nlc11OU011dGFibGVEYXRhox0fIFZOU0RhdGFYTlNPYmplY3TSGxwiI1xOU0RpY3Rpb25hcnmiIiBfEA9OU0tleWVkQXJjaGl2ZXLRJidUcm9vdIABAAgAEQAaACMALQAyADcAQABGAE0AVQBgAGcAagBsAG4AcQBzAHUAdwCEAI4A1QDaAOIDLgMwAzUDQANJA1cDWwNiA2sDcAN9A4ADkgOVA5oAAAAAAAACAQAAAAAAAAAoAAAAAAAAAAAAAAAAAAADnA==},\n",
    "\tBdsk-File-2 = {YnBsaXN0MDDUAQIDBAUGJCVYJHZlcnNpb25YJG9iamVjdHNZJGFyY2hpdmVyVCR0b3ASAAGGoKgHCBMUFRYaIVUkbnVsbNMJCgsMDxJXTlMua2V5c1pOUy5vYmplY3RzViRjbGFzc6INDoACgAOiEBGABIAFgAdccmVsYXRpdmVQYXRoWWFsaWFzRGF0YV8QRC4uL2JpYmRlc2svQmlsc29uLVRob21wc29uLlM7VmFpZC5EX0xRRyBmb3IgdGhlIEJld2lsZGVyZWRfMjAxNGIucGRm0hcLGBlXTlMuZGF0YU8RAkgAAAAAAkgAAgAADE1hY2ludG9zaCBIRAAAAAAAAAAAAAAAAAAAANCJ6aJIKwAAABZrhh9CaWxzb24tVGhvbXBzb24uUztWYSMxNjZEMTMucGRmAAAAAAAAAAAAAAAAAAAAAAAAAAAAAAAAAAAAAAAAAAAAFm0TzyjpgFBERiAAAAAAAAEAAgAACSAAAAAAAAAAAAAAAAAAAAAHYmliZGVzawAAEAAIAADQiZxKAAAAEQAIAADPKJwoAAAAAQAYABZrhgDO00oAzs8+ABTUkwAPAAIAApPTAAIAXk1hY2ludG9zaCBIRDpVc2VyczoAZGVlcGFrOgBvd25DbG91ZDoAcm9vdDoAcmVzZWFyY2g6AGJpYmRlc2s6AEJpbHNvbi1UaG9tcHNvbi5TO1ZhIzE2NkQxMy5wZGYADgB0ADkAQgBpAGwAcwBvAG4ALQBUAGgAbwBtAHAAcwBvAG4ALgBTADsAVgBhAGkAZAAuAEQAXwBMAFEARwAgAGYAbwByACAAdABoAGUAIABCAGUAdwBpAGwAZABlAHIAZQBkAF8AMgAwADEANABiAC4AcABkAGYADwAaAAwATQBhAGMAaQBuAHQAbwBzAGgAIABIAEQAEgBlVXNlcnMvZGVlcGFrL293bkNsb3VkL3Jvb3QvcmVzZWFyY2gvYmliZGVzay9CaWxzb24tVGhvbXBzb24uUztWYWlkLkRfTFFHIGZvciB0aGUgQmV3aWxkZXJlZF8yMDE0Yi5wZGYAABMAAS8AABUAAgAN//8AAIAG0hscHR5aJGNsYXNzbmFtZVgkY2xhc3Nlc11OU011dGFibGVEYXRhox0fIFZOU0RhdGFYTlNPYmplY3TSGxwiI1xOU0RpY3Rpb25hcnmiIiBfEA9OU0tleWVkQXJjaGl2ZXLRJidUcm9vdIABAAgAEQAaACMALQAyADcAQABGAE0AVQBgAGcAagBsAG4AcQBzAHUAdwCEAI4A1QDaAOIDLgMwAzUDQANJA1cDWwNiA2sDcAN9A4ADkgOVA5oAAAAAAAACAQAAAAAAAAAoAAAAAAAAAAAAAAAAAAADnA==},\n",
    "\tBdsk-Url-1 = {http://arxiv.org/abs/1402.3586}}\n",
    "\"\"\""
   ]
  },
  {
   "cell_type": "markdown",
   "metadata": {},
   "source": [
    "### Using `bibtexparser`"
   ]
  },
  {
   "cell_type": "code",
   "execution_count": 10,
   "metadata": {
    "collapsed": true
   },
   "outputs": [],
   "source": [
    "import bibtexparser"
   ]
  },
  {
   "cell_type": "code",
   "execution_count": 24,
   "metadata": {},
   "outputs": [
    {
     "data": {
      "text/plain": [
       "<bibtexparser.bibdatabase.BibDatabase at 0x113a94ef0>"
      ]
     },
     "execution_count": 24,
     "metadata": {},
     "output_type": "execute_result"
    }
   ],
   "source": [
    "with open('bibtex.bib') as bibfile:\n",
    "    bib_db = bibtexparser.load(bibfile)\n",
    "bib_db"
   ]
  },
  {
   "cell_type": "code",
   "execution_count": 25,
   "metadata": {},
   "outputs": [
    {
     "data": {
      "text/plain": [
       "dict"
      ]
     },
     "execution_count": 25,
     "metadata": {},
     "output_type": "execute_result"
    }
   ],
   "source": [
    "x = bib_db.entries[1]\n",
    "type(x)"
   ]
  },
  {
   "cell_type": "code",
   "execution_count": 26,
   "metadata": {
    "code_folding": []
   },
   "outputs": [
    {
     "name": "stdout",
     "output_type": "stream",
     "text": [
      "bdsk-url-1 http://arxiv.org/abs/gr-qc/0204019\n",
      "keyword black\\_holes, entropy, horizons, padmanabhan, quantum\\_gravity, schwarzschild, thermodynamics\n",
      "citeulike-linkout-1 http://arxiv.org/pdf/gr-qc/0204019\n",
      "date-added 2017-05-18 12:12:29 +0000\n",
      "day 16\n",
      "posted-at 2012-07-09 16:02:16\n",
      "date-modified 2017-05-18 12:12:29 +0000\n",
      "bdsk-file-1 YnBsaXN0MDDUAQIDBAUGJCVYJHZlcnNpb25YJG9iamVjdHNZJGFyY2hpdmVyVCR0b3ASAAGGoKgHCBMUFRYaIVUkbnVsbNMJCgsMDxJXTlMua2V5c1pOUy5vYmplY3RzViRjbGFzc6INDoACgAOiEBGABIAFgAdccmVsYXRpdmVQYXRoWWFsaWFzRGF0YV8Qhi4uLy4uLy4uL3Jlc2VhcmNoL2JpYmRlc2svUGFkbWFuYWJoYW4uVF9DbGFzc2ljYWwgYW5kIFF1YW50dW0gVGhlcm1vZHluYW1pY3Mgb2YgaG9yaXpvbnMgaW4gc3BoZXJpY2FsbHkgc3ltbWV0cmljIHNwYWNldGltZXNfMjAwMmEucGRm0hcLGBlXTlMuZGF0YU8RAuAAAAAAAuAAAgAADE1hY2ludG9zaCBIRAAAAAAAAAAAAAAAAAAAANCJ6aJIKwAAABZrhh9QYWRtYW5hYmhhbi5UX0NsYXNzaSMxNjcyQjEucGRmAAAAAAAAAAAAAAAAAAAAAAAAAAAAAAAAAAAAAAAAAAAAFnKxzCDvp1BERiAAAAAAAAMAAwAACSAAAAAAAAAAAAAAAAAAAAAHYmliZGVzawAAEAAIAADQiZxKAAAAEQAIAADMIKJPAAAAAQAYABZrhgDO00oAzs8+ABTUkwAPAAIAApPTAAIAXk1hY2ludG9zaCBIRDpVc2VyczoAZGVlcGFrOgBvd25DbG91ZDoAcm9vdDoAcmVzZWFyY2g6AGJpYmRlc2s6AFBhZG1hbmFiaGFuLlRfQ2xhc3NpIzE2NzJCMS5wZGYADgDaAGwAUABhAGQAbQBhAG4AYQBiAGgAYQBuAC4AVABfAEMAbABhAHMAcwBpAGMAYQBsACAAYQBuAGQAIABRAHUAYQBuAHQAdQBtACAAVABoAGUAcgBtAG8AZAB5AG4AYQBtAGkAYwBzACAAbwBmACAAaABvAHIAaQB6AG8AbgBzACAAaQBuACAAcwBwAGgAZQByAGkAYwBhAGwAbAB5ACAAcwB5AG0AbQBlAHQAcgBpAGMAIABzAHAAYQBjAGUAdABpAG0AZQBzAF8AMgAwADAAMgBhAC4AcABkAGYADwAaAAwATQBhAGMAaQBuAHQAbwBzAGgAIABIAEQAEgCYVXNlcnMvZGVlcGFrL293bkNsb3VkL3Jvb3QvcmVzZWFyY2gvYmliZGVzay9QYWRtYW5hYmhhbi5UX0NsYXNzaWNhbCBhbmQgUXVhbnR1bSBUaGVybW9keW5hbWljcyBvZiBob3Jpem9ucyBpbiBzcGhlcmljYWxseSBzeW1tZXRyaWMgc3BhY2V0aW1lc18yMDAyYS5wZGYAEwABLwAAFQACAA3//wAAgAbSGxwdHlokY2xhc3NuYW1lWCRjbGFzc2VzXU5TTXV0YWJsZURhdGGjHR8gVk5TRGF0YVhOU09iamVjdNIbHCIjXE5TRGljdGlvbmFyeaIiIF8QD05TS2V5ZWRBcmNoaXZlctEmJ1Ryb290gAEACAARABoAIwAtADIANwBAAEYATQBVAGAAZwBqAGwAbgBxAHMAdQB3AIQAjgEXARwBJAQIBAoEDwQaBCMEMQQ1BDwERQRKBFcEWgRsBG8EdAAAAAAAAAIBAAAAAAAAACgAAAAAAAAAAAAAAAAAAAR2\n",
      "archiveprefix arXiv\n",
      "ENTRYTYPE article\n",
      "citeulike-article-id 10869988\n",
      "citeulike-linkout-0 http://arxiv.org/abs/gr-qc/0204019\n",
      "abstract A general formalism for understanding the thermodynamics of horizons in spherically symmetric spacetimes is developed. The formalism reproduces known results in the case of black hole spacetimes. But its power lies in being able to handle more general situations like: (i) spacetimes which are not asymptotically flat (like the de Sitter spacetime) and (ii) spacetimes with multiple horizons having different temperatures (like the Schwarzschild-de Sitter spacetime) and provide a consistent interpretation for temperature, entropy and energy. I show that it is possible to write Einstein's equations for a spherically symmetric spacetime in the form \\$TdS-dE=PdV\\$ near {\\it any} horizon of radius \\$a\\$ with \\$S=(1/4)(4\\pi a^2), |E| = (a/2)\\$ and the temperature \\$T\\$ determined from the surface gravity at the horizon. The pressure \\$P\\$ is provided by the source of the Einstein's equations and \\$dV\\$ is the change in the volume when the horizon is displaced infinitesimally. The same results can be obtained by evaluating the quantum mechanical partition function {\\it without using Einstein's equations or WKB approximation for the action}. Both the classical and quantum analysis provide a simple and consistent interpretation of entropy and energy for de Sitter spacetime as well as for \\$(1+2)\\$ dimensional gravity. For the Rindler spacetime the entropy per unit transverse area turns out to be \\$(1/4)\\$ while the energy is zero. The approach also shows that the de Sitter horizon -- like the Schwarzschild horizon -- is effectively one dimensional as far as the flow of information is concerned, while the Schwarzschild-de Sitter, Reissner-Nordstrom horizons are not. The implications for spacetimes with multiple horizons are discussed.\n",
      "author Padmanabhan, T.\n",
      "eprint gr-qc/0204019\n",
      "priority 2\n",
      "month sep\n",
      "ID Padmanabhan2002Classical\n",
      "year 2002\n",
      "link http://arxiv.org/abs/gr-qc/0204019\n",
      "title Classical and Quantum Thermodynamics of horizons in spherically symmetric spacetimes\n"
     ]
    }
   ],
   "source": [
    "for k in x.keys():\n",
    "    print(k,x[k])"
   ]
  },
  {
   "cell_type": "code",
   "execution_count": 27,
   "metadata": {},
   "outputs": [
    {
     "data": {
      "text/plain": [
       "dict_keys(['bdsk-url-1', 'keyword', 'citeulike-linkout-1', 'date-added', 'day', 'posted-at', 'date-modified', 'bdsk-file-1', 'archiveprefix', 'ENTRYTYPE', 'citeulike-article-id', 'citeulike-linkout-0', 'abstract', 'author', 'eprint', 'priority', 'month', 'ID', 'year', 'link', 'title'])"
      ]
     },
     "execution_count": 27,
     "metadata": {},
     "output_type": "execute_result"
    }
   ],
   "source": [
    "x.keys()"
   ]
  },
  {
   "cell_type": "code",
   "execution_count": 17,
   "metadata": {},
   "outputs": [
    {
     "data": {
      "text/plain": [
       "dict_keys(['bdsk-url-1', 'keyword', 'citeulike-linkout-1', 'date-added', 'day', 'posted-at', 'date-modified', 'archiveprefix', 'ENTRYTYPE', 'citeulike-article-id', 'citeulike-linkout-0', 'abstract', 'author', 'eprint', 'priority', 'month', 'ID', 'year', 'link', 'title'])"
      ]
     },
     "execution_count": 17,
     "metadata": {},
     "output_type": "execute_result"
    }
   ],
   "source": [
    "popkeys = []\n",
    "for i in x.keys():\n",
    "    if \"bdsk-file\" in i:\n",
    "        print(i)\n",
    "        popkeys.append(i)\n",
    "        \n",
    "for i in popkeys:\n",
    "    x.pop(i)\n",
    "\n",
    "x.keys()"
   ]
  },
  {
   "cell_type": "code",
   "execution_count": 28,
   "metadata": {},
   "outputs": [
    {
     "data": {
      "text/plain": [
       "{'ENTRYTYPE': 'article',\n",
       " 'ID': 'Padmanabhan2002Classical',\n",
       " 'abstract': \"A general formalism for understanding the thermodynamics of horizons in spherically symmetric spacetimes is developed. The formalism reproduces known results in the case of black hole spacetimes. But its power lies in being able to handle more general situations like: (i) spacetimes which are not asymptotically flat (like the de Sitter spacetime) and (ii) spacetimes with multiple horizons having different temperatures (like the Schwarzschild-de Sitter spacetime) and provide a consistent interpretation for temperature, entropy and energy. I show that it is possible to write Einstein's equations for a spherically symmetric spacetime in the form \\\\$TdS-dE=PdV\\\\$ near {\\\\it any} horizon of radius \\\\$a\\\\$ with \\\\$S=(1/4)(4\\\\pi a^2), |E| = (a/2)\\\\$ and the temperature \\\\$T\\\\$ determined from the surface gravity at the horizon. The pressure \\\\$P\\\\$ is provided by the source of the Einstein's equations and \\\\$dV\\\\$ is the change in the volume when the horizon is displaced infinitesimally. The same results can be obtained by evaluating the quantum mechanical partition function {\\\\it without using Einstein's equations or WKB approximation for the action}. Both the classical and quantum analysis provide a simple and consistent interpretation of entropy and energy for de Sitter spacetime as well as for \\\\$(1+2)\\\\$ dimensional gravity. For the Rindler spacetime the entropy per unit transverse area turns out to be \\\\$(1/4)\\\\$ while the energy is zero. The approach also shows that the de Sitter horizon -- like the Schwarzschild horizon -- is effectively one dimensional as far as the flow of information is concerned, while the Schwarzschild-de Sitter, Reissner-Nordstrom horizons are not. The implications for spacetimes with multiple horizons are discussed.\",\n",
       " 'archiveprefix': 'arXiv',\n",
       " 'author': 'Padmanabhan, T.',\n",
       " 'bdsk-file-1': 'YnBsaXN0MDDUAQIDBAUGJCVYJHZlcnNpb25YJG9iamVjdHNZJGFyY2hpdmVyVCR0b3ASAAGGoKgHCBMUFRYaIVUkbnVsbNMJCgsMDxJXTlMua2V5c1pOUy5vYmplY3RzViRjbGFzc6INDoACgAOiEBGABIAFgAdccmVsYXRpdmVQYXRoWWFsaWFzRGF0YV8Qhi4uLy4uLy4uL3Jlc2VhcmNoL2JpYmRlc2svUGFkbWFuYWJoYW4uVF9DbGFzc2ljYWwgYW5kIFF1YW50dW0gVGhlcm1vZHluYW1pY3Mgb2YgaG9yaXpvbnMgaW4gc3BoZXJpY2FsbHkgc3ltbWV0cmljIHNwYWNldGltZXNfMjAwMmEucGRm0hcLGBlXTlMuZGF0YU8RAuAAAAAAAuAAAgAADE1hY2ludG9zaCBIRAAAAAAAAAAAAAAAAAAAANCJ6aJIKwAAABZrhh9QYWRtYW5hYmhhbi5UX0NsYXNzaSMxNjcyQjEucGRmAAAAAAAAAAAAAAAAAAAAAAAAAAAAAAAAAAAAAAAAAAAAFnKxzCDvp1BERiAAAAAAAAMAAwAACSAAAAAAAAAAAAAAAAAAAAAHYmliZGVzawAAEAAIAADQiZxKAAAAEQAIAADMIKJPAAAAAQAYABZrhgDO00oAzs8+ABTUkwAPAAIAApPTAAIAXk1hY2ludG9zaCBIRDpVc2VyczoAZGVlcGFrOgBvd25DbG91ZDoAcm9vdDoAcmVzZWFyY2g6AGJpYmRlc2s6AFBhZG1hbmFiaGFuLlRfQ2xhc3NpIzE2NzJCMS5wZGYADgDaAGwAUABhAGQAbQBhAG4AYQBiAGgAYQBuAC4AVABfAEMAbABhAHMAcwBpAGMAYQBsACAAYQBuAGQAIABRAHUAYQBuAHQAdQBtACAAVABoAGUAcgBtAG8AZAB5AG4AYQBtAGkAYwBzACAAbwBmACAAaABvAHIAaQB6AG8AbgBzACAAaQBuACAAcwBwAGgAZQByAGkAYwBhAGwAbAB5ACAAcwB5AG0AbQBlAHQAcgBpAGMAIABzAHAAYQBjAGUAdABpAG0AZQBzAF8AMgAwADAAMgBhAC4AcABkAGYADwAaAAwATQBhAGMAaQBuAHQAbwBzAGgAIABIAEQAEgCYVXNlcnMvZGVlcGFrL293bkNsb3VkL3Jvb3QvcmVzZWFyY2gvYmliZGVzay9QYWRtYW5hYmhhbi5UX0NsYXNzaWNhbCBhbmQgUXVhbnR1bSBUaGVybW9keW5hbWljcyBvZiBob3Jpem9ucyBpbiBzcGhlcmljYWxseSBzeW1tZXRyaWMgc3BhY2V0aW1lc18yMDAyYS5wZGYAEwABLwAAFQACAA3//wAAgAbSGxwdHlokY2xhc3NuYW1lWCRjbGFzc2VzXU5TTXV0YWJsZURhdGGjHR8gVk5TRGF0YVhOU09iamVjdNIbHCIjXE5TRGljdGlvbmFyeaIiIF8QD05TS2V5ZWRBcmNoaXZlctEmJ1Ryb290gAEACAARABoAIwAtADIANwBAAEYATQBVAGAAZwBqAGwAbgBxAHMAdQB3AIQAjgEXARwBJAQIBAoEDwQaBCMEMQQ1BDwERQRKBFcEWgRsBG8EdAAAAAAAAAIBAAAAAAAAACgAAAAAAAAAAAAAAAAAAAR2',\n",
       " 'bdsk-url-1': 'http://arxiv.org/abs/gr-qc/0204019',\n",
       " 'citeulike-article-id': '10869988',\n",
       " 'citeulike-linkout-0': 'http://arxiv.org/abs/gr-qc/0204019',\n",
       " 'citeulike-linkout-1': 'http://arxiv.org/pdf/gr-qc/0204019',\n",
       " 'date-added': '2017-05-18 12:12:29 +0000',\n",
       " 'date-modified': '2017-05-18 12:12:29 +0000',\n",
       " 'day': '16',\n",
       " 'eprint': 'gr-qc/0204019',\n",
       " 'keyword': 'black\\\\_holes, entropy, horizons, padmanabhan, quantum\\\\_gravity, schwarzschild, thermodynamics',\n",
       " 'link': 'http://arxiv.org/abs/gr-qc/0204019',\n",
       " 'month': 'sep',\n",
       " 'posted-at': '2012-07-09 16:02:16',\n",
       " 'priority': '2',\n",
       " 'title': 'Classical and Quantum Thermodynamics of horizons in spherically symmetric spacetimes',\n",
       " 'year': '2002'}"
      ]
     },
     "execution_count": 28,
     "metadata": {},
     "output_type": "execute_result"
    }
   ],
   "source": [
    "x"
   ]
  },
  {
   "cell_type": "markdown",
   "metadata": {},
   "source": [
    "### Using `pybtex`"
   ]
  },
  {
   "cell_type": "code",
   "execution_count": 29,
   "metadata": {
    "collapsed": true
   },
   "outputs": [],
   "source": [
    "from pybtex.database import parse_file"
   ]
  },
  {
   "cell_type": "code",
   "execution_count": 30,
   "metadata": {},
   "outputs": [
    {
     "data": {
      "text/plain": [
       "pybtex.database.BibliographyData"
      ]
     },
     "execution_count": 30,
     "metadata": {},
     "output_type": "execute_result"
    }
   ],
   "source": [
    "bib_data = parse_file('bibtex.bib')\n",
    "type(bib_data)"
   ]
  },
  {
   "cell_type": "code",
   "execution_count": 31,
   "metadata": {},
   "outputs": [
    {
     "name": "stdout",
     "output_type": "stream",
     "text": [
      "Samuel2006Surface\n",
      "Padmanabhan2002Classical\n",
      "Padmanabhan2002The-Holography\n",
      "Padmanabhan2002Thermodynamics\n",
      "Padmanabhan2003Gravity\n",
      "Padmanabhan2003Quasi\n",
      "Padmanabhan2004From\n",
      "Padmanabhan2009A-Physical\n",
      "Padmanabhan2009Equipartition\n",
      "Padmanabhan2010Entropy\n",
      "Padmanabhan2010Surface\n",
      "Padmanabhan2012Emergence\n",
      "Padmanabhan2012Emergent\n",
      "Rovelli1993Statistical\n",
      "Connes1994Von-Neumann\n",
      "Hoel2017When\n",
      "Vaid2010Embedding\n",
      "Vaid2012Quantum\n",
      "Vaid2013Elementary\n",
      "Vaid2013Non-abelian\n",
      "Vaid2013Superconducting\n",
      "Vaid2014LQG-for-the-Bewildered\n"
     ]
    }
   ],
   "source": [
    "for x in bib_data.entries:\n",
    "    print(x)"
   ]
  },
  {
   "cell_type": "code",
   "execution_count": 22,
   "metadata": {},
   "outputs": [
    {
     "data": {
      "text/plain": [
       "pybtex.database.Entry"
      ]
     },
     "execution_count": 22,
     "metadata": {},
     "output_type": "execute_result"
    }
   ],
   "source": [
    "x = bib_data.entries['Vaid2012Quantum']\n",
    "type(x)"
   ]
  },
  {
   "cell_type": "code",
   "execution_count": 23,
   "metadata": {},
   "outputs": [
    {
     "data": {
      "text/plain": [
       "'misc'"
      ]
     },
     "execution_count": 23,
     "metadata": {},
     "output_type": "execute_result"
    }
   ],
   "source": [
    "x.type"
   ]
  },
  {
   "cell_type": "markdown",
   "metadata": {},
   "source": [
    "### Python SQLite3\n",
    "\n",
    "Reference: [Intro to SQLite3](http://pythoncentral.io/introduction-to-sqlite-in-python/)"
   ]
  },
  {
   "cell_type": "code",
   "execution_count": 32,
   "metadata": {
    "collapsed": true
   },
   "outputs": [],
   "source": [
    "import sqlite3 as sq3"
   ]
  },
  {
   "cell_type": "markdown",
   "metadata": {},
   "source": [
    "#### Create or Open SQLite 3 Database"
   ]
  },
  {
   "cell_type": "code",
   "execution_count": 33,
   "metadata": {},
   "outputs": [
    {
     "data": {
      "text/plain": [
       "<sqlite3.Connection at 0x113ea0f10>"
      ]
     },
     "execution_count": 33,
     "metadata": {},
     "output_type": "execute_result"
    }
   ],
   "source": [
    "# Create database in RAM\n",
    "# db = sq3.connect(':memory:')\n",
    "\n",
    "# Create or open database sqlite3 file\n",
    "db = sq3.connect('library.sq3')\n",
    "db"
   ]
  },
  {
   "cell_type": "markdown",
   "metadata": {},
   "source": [
    "#### Create cursor object used for interacting with database"
   ]
  },
  {
   "cell_type": "code",
   "execution_count": 34,
   "metadata": {
    "collapsed": true
   },
   "outputs": [],
   "source": [
    "# Get cursor object\n",
    "cursor = db.cursor()"
   ]
  },
  {
   "cell_type": "markdown",
   "metadata": {},
   "source": [
    "##### Retrieve Table Information From SQLite_Master Table\n",
    "\n",
    "Reference: [SO Question](http://stackoverflow.com/a/10746045/506434)"
   ]
  },
  {
   "cell_type": "code",
   "execution_count": 35,
   "metadata": {},
   "outputs": [
    {
     "name": "stdout",
     "output_type": "stream",
     "text": [
      "[('library',), ('shelves',), ('categories',), ('filescategories',), ('projects',), ('projectsfiles',), ('projectsusers',), ('notes',), ('searches',), ('yellowmarkers',), ('annotations',), ('library_log',), ('sqlite_stat1',), ('flagged',)]\n"
     ]
    }
   ],
   "source": [
    "cursor.execute(\"select name from sqlite_master where type='table';\")\n",
    "print(cursor.fetchall())"
   ]
  },
  {
   "cell_type": "markdown",
   "metadata": {},
   "source": [
    "##### Retrieve Data Using Cursor Object"
   ]
  },
  {
   "cell_type": "code",
   "execution_count": 36,
   "metadata": {},
   "outputs": [
    {
     "data": {
      "text/plain": [
       "<sqlite3.Cursor at 0x113eb96c0>"
      ]
     },
     "execution_count": 36,
     "metadata": {},
     "output_type": "execute_result"
    }
   ],
   "source": [
    "cursor.execute('''SELECT title from library''')"
   ]
  },
  {
   "cell_type": "code",
   "execution_count": 37,
   "metadata": {},
   "outputs": [
    {
     "data": {
      "text/plain": [
       "(2189, list)"
      ]
     },
     "execution_count": 37,
     "metadata": {},
     "output_type": "execute_result"
    }
   ],
   "source": [
    "titles = cursor.fetchall()\n",
    "len(titles), type(titles)"
   ]
  },
  {
   "cell_type": "code",
   "execution_count": 38,
   "metadata": {},
   "outputs": [
    {
     "data": {
      "text/plain": [
       "<sqlite3.Cursor at 0x113eb96c0>"
      ]
     },
     "execution_count": 38,
     "metadata": {},
     "output_type": "execute_result"
    }
   ],
   "source": [
    "cursor.execute('''select * from library''')"
   ]
  },
  {
   "cell_type": "code",
   "execution_count": 39,
   "metadata": {
    "collapsed": true
   },
   "outputs": [],
   "source": [
    "cursor.description?"
   ]
  },
  {
   "cell_type": "markdown",
   "metadata": {},
   "source": [
    "##### Or Using Pandas Instead\n",
    "\n",
    "Reference: [SO Answer](http://stackoverflow.com/a/33100538/506434)"
   ]
  },
  {
   "cell_type": "code",
   "execution_count": 40,
   "metadata": {
    "collapsed": true
   },
   "outputs": [],
   "source": [
    "import pandas as pd"
   ]
  },
  {
   "cell_type": "code",
   "execution_count": 41,
   "metadata": {
    "collapsed": true
   },
   "outputs": [],
   "source": [
    "#table = pd.read_sql_query(\"SELECT * from table_name\",db)\n",
    "#table"
   ]
  },
  {
   "cell_type": "markdown",
   "metadata": {},
   "source": [
    "#### Custom CSS"
   ]
  },
  {
   "cell_type": "code",
   "execution_count": 42,
   "metadata": {
    "collapsed": true
   },
   "outputs": [],
   "source": [
    "# from IPython.core.display import HTML\n",
    "# from urllib.request import urlopen\n",
    "# HTML(urlopen('http://bit.ly/1Bf5Hft').read() )"
   ]
  },
  {
   "cell_type": "code",
   "execution_count": 81,
   "metadata": {},
   "outputs": [
    {
     "data": {
      "text/html": [
       "<link href='http://fonts.googleapis.com/css?family=Fenix' rel='stylesheet' type='text/css'>\n",
       "<link href='http://fonts.googleapis.com/css?family=Alegreya+Sans:100,300,400,500,700,800,900,100italic,300italic,400italic,500italic,700italic,800italic,900italic' rel='stylesheet' type='text/css'>\n",
       "<link href='http://fonts.googleapis.com/css?family=Source+Code+Pro:300,400' rel='stylesheet' type='text/css'>\n",
       "<style>\n",
       "    @font-face {\n",
       "        font-family: \"Computer Modern\";\n",
       "        src: url('http://mirrors.ctan.org/fonts/cm-unicode/fonts/otf/cmunss.otf');\n",
       "    }\n",
       "    div.cell{\n",
       "        width:800px;\n",
       "        margin-left:16% !important;\n",
       "        margin-right:auto;\n",
       "    }\n",
       "    h1 {\n",
       "        font-family: 'Alegreya Sans', sans-serif;\n",
       "    }\n",
       "    h2 {\n",
       "        font-family: 'Fenix', serif;\n",
       "    }\n",
       "    h3{\n",
       "\t\tfont-family: 'Fenix', serif;\n",
       "        margin-top:12px;\n",
       "        margin-bottom: 3px;\n",
       "       }\n",
       "\th4{\n",
       "\t\tfont-family: 'Fenix', serif;\n",
       "       }\n",
       "    h5 {\n",
       "        font-family: 'Alegreya Sans', sans-serif;\n",
       "    }\t   \n",
       "    div.text_cell_render{\n",
       "        font-family: 'Alegreya Sans',Computer Modern, \"Helvetica Neue\", Arial, Helvetica, Geneva, sans-serif;\n",
       "        line-height: 135%;\n",
       "        font-size: 120%;\n",
       "        width:600px;\n",
       "        margin-left:auto;\n",
       "        margin-right:auto;\n",
       "    }\n",
       "    .CodeMirror{\n",
       "            font-family: \"Source Code Pro\";\n",
       "\t\t\tfont-size: 90%;\n",
       "    }\n",
       "/*    .prompt{\n",
       "        display: None;\n",
       "    }*/\n",
       "    .text_cell_render h1 {\n",
       "        font-weight: 200;\n",
       "        font-size: 50pt;\n",
       "\t\tline-height: 100%;\n",
       "        color:#CD2305;\n",
       "        margin-bottom: 0.5em;\n",
       "        margin-top: 0.5em;\n",
       "        display: block;\n",
       "    }\t\n",
       "    .text_cell_render h5 {\n",
       "        font-weight: 300;\n",
       "        font-size: 16pt;\n",
       "        color: #CD2305;\n",
       "        font-style: italic;\n",
       "        margin-bottom: .5em;\n",
       "        margin-top: 0.5em;\n",
       "        display: block;\n",
       "    }\n",
       "    \n",
       "    .warning{\n",
       "        color: rgb( 240, 20, 20 )\n",
       "        }  \n",
       "</style>\n",
       "<script>\n",
       "    MathJax.Hub.Config({\n",
       "                        TeX: {\n",
       "                           extensions: [\"AMSmath.js\"]\n",
       "                           },\n",
       "                tex2jax: {\n",
       "                    inlineMath: [ ['$','$'], [\"\\\\(\",\"\\\\)\"] ],\n",
       "                    displayMath: [ ['$$','$$'], [\"\\\\[\",\"\\\\]\"] ]\n",
       "                },\n",
       "                displayAlign: 'center', // Change this to 'center' to center equations.\n",
       "                \"HTML-CSS\": {\n",
       "                    styles: {'.MathJax_Display': {\"margin\": 4}}\n",
       "                }\n",
       "        });\n",
       "</script>\n"
      ],
      "text/plain": [
       "<IPython.core.display.HTML object>"
      ]
     },
     "execution_count": 81,
     "metadata": {},
     "output_type": "execute_result"
    }
   ],
   "source": [
    "from IPython.core.display import HTML\n",
    "def css_styling():\n",
    "    styles = open(\"../css/custom.css\", \"r\").read()\n",
    "    return HTML(styles)\n",
    "css_styling()"
   ]
  },
  {
   "cell_type": "code",
   "execution_count": null,
   "metadata": {
    "collapsed": true
   },
   "outputs": [],
   "source": []
  }
 ],
 "metadata": {
  "kernelspec": {
   "display_name": "Python 3",
   "language": "python",
   "name": "python3"
  },
  "language_info": {
   "codemirror_mode": {
    "name": "ipython",
    "version": 3
   },
   "file_extension": ".py",
   "mimetype": "text/x-python",
   "name": "python",
   "nbconvert_exporter": "python",
   "pygments_lexer": "ipython3",
   "version": "3.5.3"
  },
  "latex_envs": {
   "bibliofile": "biblio.bib",
   "cite_by": "apalike",
   "current_citInitial": 1,
   "eqLabelWithNumbers": true,
   "eqNumInitial": 0
  }
 },
 "nbformat": 4,
 "nbformat_minor": 1
}
